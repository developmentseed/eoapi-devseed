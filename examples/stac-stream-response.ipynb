{
 "cells": [
  {
   "cell_type": "code",
   "execution_count": 41,
   "metadata": {},
   "outputs": [],
   "source": [
    "import httpx\n",
    "import json\n",
    "import re\n",
    "\n",
    "endpoint = \"https://stac.eoapi.dev\"\n",
    "collection = \"openaerialmap\""
   ]
  },
  {
   "cell_type": "code",
   "execution_count": null,
   "metadata": {},
   "outputs": [
    {
     "name": "stdout",
     "output_type": "stream",
     "text": [
      "200\n",
      "Number of Items found: 16157\n"
     ]
    }
   ],
   "source": [
    "resp = httpx.get(f\"{endpoint}/search\", params={\"collections\": collection})\n",
    "print(\"Number of Items found:\", resp.json()[\"numberMatched\"])"
   ]
  },
  {
   "cell_type": "code",
   "execution_count": 43,
   "metadata": {},
   "outputs": [],
   "source": [
    "# https://github.com/kennethreitz/requests/blob/f5dacf84468ab7e0631cc61a3f1431a32e3e143c/requests/utils.py#L580-L612\n",
    "def parse_header_links(value):\n",
    "    \"\"\"Return a dict of parsed link headers proxies.\n",
    "\n",
    "    i.e. Link: <http:/.../front.jpeg>; rel=front; type=\"image/jpeg\",<http://.../back.jpeg>; rel=back;type=\"image/jpeg\"\n",
    "\n",
    "    \"\"\"\n",
    "\n",
    "    links = []\n",
    "\n",
    "    replace_chars = \" '\\\"\"\n",
    "\n",
    "    for val in re.split(\", *<\", value):\n",
    "        try:\n",
    "            url, params = val.split(\";\", 1)\n",
    "        except ValueError:\n",
    "            url, params = val, \"\"\n",
    "\n",
    "        link = {}\n",
    "\n",
    "        link[\"url\"] = url.strip(\"<> '\\\"\")\n",
    "\n",
    "        for param in params.split(\";\"):\n",
    "            try:\n",
    "                key, value = param.split(\"=\")\n",
    "            except ValueError:\n",
    "                break\n",
    "\n",
    "            link[key.strip(replace_chars)] = value.strip(replace_chars)\n",
    "\n",
    "        links.append(link)\n",
    "\n",
    "    return links"
   ]
  },
  {
   "cell_type": "code",
   "execution_count": 57,
   "metadata": {},
   "outputs": [],
   "source": [
    "%timeit\n",
    "\n",
    "url = f\"{endpoint}/search?collections={collection}&limit=1000\"\n",
    "while True:\n",
    "    resp = httpx.get(url, headers={\"Accept\": \"application/geo+json-seq\"})\n",
    "    for r in resp.iter_lines():\n",
    "        _ = json.loads(r)\n",
    "\n",
    "    links = parse_header_links(resp.headers.get(\"link\", \"\"))\n",
    "    url = next((link[\"url\"] for link in links if link[\"rel\"] == \"next\"), None)\n",
    "    if not url:\n",
    "        break"
   ]
  },
  {
   "cell_type": "code",
   "execution_count": null,
   "metadata": {},
   "outputs": [],
   "source": [
    "%timeit\n",
    "\n",
    "url = f\"{endpoint}/search?collections={collection}&limit=1000\"\n",
    "while True:\n",
    "    resp = httpx.get(url)\n",
    "    items = resp.json()\n",
    "\n",
    "    links = items[\"links\"]\n",
    "    url = next((link[\"href\"] for link in links if link[\"rel\"] == \"next\"), None)\n",
    "    if not url:\n",
    "        break"
   ]
  },
  {
   "cell_type": "code",
   "execution_count": 70,
   "metadata": {},
   "outputs": [
    {
     "data": {
      "application/vnd.jupyter.widget-view+json": {
       "model_id": "605b13e7d75d458eba6f266ec9624272",
       "version_major": 2,
       "version_minor": 1
      },
      "text/plain": [
       "Map(basemap_style=<CartoBasemap.DarkMatter: 'https://basemaps.cartocdn.com/gl/dark-matter-gl-style/style.json'…"
      ]
     },
     "execution_count": 70,
     "metadata": {},
     "output_type": "execute_result"
    }
   ],
   "source": [
    "from geoarrow.rust.io import read_parquet\n",
    "from lonboard import viz\n",
    "\n",
    "resp = httpx.get(\n",
    "    \"http://127.0.0.1:8081/search?limit=1000\",\n",
    "    headers={\"Accept\": \"application/vnd.apache.parquet\"},\n",
    ")\n",
    "with open(\"items.parquet\", \"wb\") as f:\n",
    "    f.write(resp.content)\n",
    "\n",
    "# Example: A GeoParquet file with Polygon or MultiPolygon geometries\n",
    "table = read_parquet(\"items.parquet\")\n",
    "v = viz(table)\n",
    "v"
   ]
  },
  {
   "cell_type": "code",
   "execution_count": null,
   "metadata": {},
   "outputs": [],
   "source": []
  }
 ],
 "metadata": {
  "kernelspec": {
   "display_name": "py312",
   "language": "python",
   "name": "python3"
  },
  "language_info": {
   "codemirror_mode": {
    "name": "ipython",
    "version": 3
   },
   "file_extension": ".py",
   "mimetype": "text/x-python",
   "name": "python",
   "nbconvert_exporter": "python",
   "pygments_lexer": "ipython3",
   "version": "3.12.3"
  }
 },
 "nbformat": 4,
 "nbformat_minor": 2
}
